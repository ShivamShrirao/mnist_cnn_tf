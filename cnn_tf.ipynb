{
 "cells": [
  {
   "cell_type": "code",
   "execution_count": 1,
   "metadata": {},
   "outputs": [],
   "source": [
    "import tensorflow as tf\n",
    "import numpy as np\n",
    "import matplotlib.pyplot as plt"
   ]
  },
  {
   "cell_type": "code",
   "execution_count": 2,
   "metadata": {},
   "outputs": [],
   "source": [
    "import os\n",
    "os.environ['CUDA_VISIBLE_DEVICES'] = '0'"
   ]
  },
  {
   "cell_type": "code",
   "execution_count": 3,
   "metadata": {},
   "outputs": [],
   "source": [
    "%matplotlib inline\n",
    "tf.logging.set_verbosity(tf.logging.INFO)"
   ]
  },
  {
   "cell_type": "code",
   "execution_count": 4,
   "metadata": {},
   "outputs": [],
   "source": [
    "from sklearn.preprocessing import OneHotEncoder"
   ]
  },
  {
   "cell_type": "code",
   "execution_count": 5,
   "metadata": {},
   "outputs": [],
   "source": [
    "tf.reset_default_graph()"
   ]
  },
  {
   "cell_type": "code",
   "execution_count": 6,
   "metadata": {},
   "outputs": [],
   "source": [
    "# Load training and test data\n",
    "((train_data, train_labels),(test_data, test_labels)) = tf.keras.datasets.mnist.load_data()\n",
    "\n",
    "train_data = train_data/np.float32(255)\n",
    "test_data = test_data/np.float32(255)\n",
    "\n",
    "ohe=OneHotEncoder(sparse=False, categories='auto')\n",
    "train_labels=ohe.fit_transform(train_labels.reshape(-1,1))\n",
    "test_labels=ohe.fit_transform(test_labels.reshape(-1,1))"
   ]
  },
  {
   "cell_type": "code",
   "execution_count": 7,
   "metadata": {},
   "outputs": [],
   "source": [
    "x = tf.placeholder(tf.float32, shape=[None,28,28], name='X')\n",
    "x_img = tf.reshape(x, [-1,28,28,1])\n",
    "y_label = tf.placeholder(tf.float32, shape=[None, 10], name='y_label')\n",
    "y_true = tf.argmax(y_label, axis=1)\n",
    "\n",
    "rate = tf.placeholder(tf.float32, name='rate')"
   ]
  },
  {
   "cell_type": "markdown",
   "metadata": {},
   "source": [
    "# Layer Functions"
   ]
  },
  {
   "cell_type": "code",
   "execution_count": 8,
   "metadata": {},
   "outputs": [],
   "source": [
    "def conv_layer(inp, num_inp_channels, filter_size, num_filters):\n",
    "    shape = [filter_size, filter_size, num_inp_channels, num_filters]\n",
    "    weights = tf.Variable(tf.truncated_normal(shape, stddev=0.1))\n",
    "    biases = tf.Variable(tf.constant(0.1, shape=[num_filters]))\n",
    "    layer = tf.nn.conv2d(input=inp, filter=weights, strides=[1,1,1,1], padding='SAME')\n",
    "    return tf.add(layer, biases)"
   ]
  },
  {
   "cell_type": "code",
   "execution_count": 9,
   "metadata": {},
   "outputs": [],
   "source": [
    "def pool_layer(inp):\n",
    "    layer = tf.nn.max_pool(value=inp, ksize=[1,2,2,1], strides=[1,2,2,1], padding='SAME')\n",
    "    return layer"
   ]
  },
  {
   "cell_type": "code",
   "execution_count": 10,
   "metadata": {},
   "outputs": [],
   "source": [
    "def fc_layer(inp, num_inps, num_outs):\n",
    "    weights = tf.Variable(tf.truncated_normal([num_inps, num_outs], stddev=0.1))\n",
    "    biases = tf.Variable(tf.constant(0.1, shape=[num_outs]))\n",
    "    return tf.add(tf.matmul(inp,weights), biases)"
   ]
  },
  {
   "cell_type": "markdown",
   "metadata": {},
   "source": [
    "# Create CNN"
   ]
  },
  {
   "cell_type": "code",
   "execution_count": 11,
   "metadata": {},
   "outputs": [
    {
     "name": "stdout",
     "output_type": "stream",
     "text": [
      "WARNING:tensorflow:From /usr/lib/python3.7/site-packages/tensorflow/python/framework/op_def_library.py:263: colocate_with (from tensorflow.python.framework.ops) is deprecated and will be removed in a future version.\n",
      "Instructions for updating:\n",
      "Colocations handled automatically by placer.\n"
     ]
    }
   ],
   "source": [
    "conv1 = tf.nn.relu(conv_layer(inp=x_img, num_inp_channels=1, filter_size=5, num_filters=6))\n",
    "pool1 = pool_layer(conv1)\n",
    "conv2 = tf.nn.relu(conv_layer(inp=pool1, num_inp_channels=6, filter_size=5, num_filters=16))\n",
    "pool2 = pool_layer(conv2)\n",
    "\n",
    "num_features = pool2.shape[1:].num_elements()\n",
    "flat_layer = tf.reshape(pool2, [-1, num_features])\n",
    "\n",
    "fc1 = tf.nn.relu(fc_layer(flat_layer, num_inps=num_features, num_outs=128))\n",
    "fc2 = fc_layer(fc1, num_inps=128, num_outs=10)"
   ]
  },
  {
   "cell_type": "code",
   "execution_count": 12,
   "metadata": {},
   "outputs": [
    {
     "data": {
      "text/plain": [
       "(<tf.Tensor 'MaxPool:0' shape=(?, 14, 14, 6) dtype=float32>,\n",
       " <tf.Tensor 'MaxPool_1:0' shape=(?, 7, 7, 16) dtype=float32>)"
      ]
     },
     "execution_count": 12,
     "metadata": {},
     "output_type": "execute_result"
    }
   ],
   "source": [
    "pool1,pool2"
   ]
  },
  {
   "cell_type": "code",
   "execution_count": 13,
   "metadata": {},
   "outputs": [
    {
     "data": {
      "text/plain": [
       "<tf.Tensor 'Reshape_1:0' shape=(?, 784) dtype=float32>"
      ]
     },
     "execution_count": 13,
     "metadata": {},
     "output_type": "execute_result"
    }
   ],
   "source": [
    "flat_layer"
   ]
  },
  {
   "cell_type": "code",
   "execution_count": 14,
   "metadata": {},
   "outputs": [
    {
     "data": {
      "text/plain": [
       "<tf.Tensor 'Reshape:0' shape=(?, 28, 28, 1) dtype=float32>"
      ]
     },
     "execution_count": 14,
     "metadata": {},
     "output_type": "execute_result"
    }
   ],
   "source": [
    "x_img"
   ]
  },
  {
   "cell_type": "code",
   "execution_count": 15,
   "metadata": {},
   "outputs": [
    {
     "data": {
      "text/plain": [
       "<tf.Tensor 'Relu:0' shape=(?, 28, 28, 6) dtype=float32>"
      ]
     },
     "execution_count": 15,
     "metadata": {},
     "output_type": "execute_result"
    }
   ],
   "source": [
    "conv1"
   ]
  },
  {
   "cell_type": "code",
   "execution_count": 16,
   "metadata": {},
   "outputs": [],
   "source": [
    "y_pred = tf.nn.softmax(fc2)\n",
    "y_pred_val = tf.argmax(y_pred, axis=1)"
   ]
  },
  {
   "cell_type": "markdown",
   "metadata": {},
   "source": [
    "# Cost Function"
   ]
  },
  {
   "cell_type": "code",
   "execution_count": 17,
   "metadata": {},
   "outputs": [],
   "source": [
    "cross_entropy = tf.nn.softmax_cross_entropy_with_logits_v2(logits=fc2, labels=y_label)\n",
    "cost = tf.reduce_mean(cross_entropy)"
   ]
  },
  {
   "cell_type": "code",
   "execution_count": 18,
   "metadata": {},
   "outputs": [],
   "source": [
    "optimizer = tf.train.AdamOptimizer(learning_rate=0.001).minimize(cost)"
   ]
  },
  {
   "cell_type": "markdown",
   "metadata": {},
   "source": [
    "# Accuracy"
   ]
  },
  {
   "cell_type": "code",
   "execution_count": 19,
   "metadata": {},
   "outputs": [],
   "source": [
    "correct_preds = tf.equal(y_pred_val, y_true)\n",
    "accuracy = tf.reduce_mean(tf.cast(correct_preds, tf.float32))"
   ]
  },
  {
   "cell_type": "code",
   "execution_count": 20,
   "metadata": {},
   "outputs": [],
   "source": [
    "num_epochs = 10\n",
    "batch_size = 100"
   ]
  },
  {
   "cell_type": "markdown",
   "metadata": {},
   "source": [
    "# TF session"
   ]
  },
  {
   "cell_type": "code",
   "execution_count": 21,
   "metadata": {},
   "outputs": [],
   "source": [
    "from time import time"
   ]
  },
  {
   "cell_type": "code",
   "execution_count": 22,
   "metadata": {},
   "outputs": [],
   "source": [
    "saver = tf.train.Saver()"
   ]
  },
  {
   "cell_type": "code",
   "execution_count": 23,
   "metadata": {},
   "outputs": [],
   "source": [
    "def batch_gen(t_data, t_labels, batch_size):\n",
    "    cut=np.random.randint(0,t_labels.shape[0]-batch_size)\n",
    "    return t_data[cut:cut+batch_size], t_labels[cut:cut+batch_size]"
   ]
  },
  {
   "cell_type": "code",
   "execution_count": 26,
   "metadata": {
    "scrolled": false
   },
   "outputs": [
    {
     "name": "stdout",
     "output_type": "stream",
     "text": [
      "WARNING:tensorflow:From /usr/lib/python3.7/site-packages/tensorflow/python/training/saver.py:1266: checkpoint_exists (from tensorflow.python.training.checkpoint_management) is deprecated and will be removed in a future version.\n",
      "Instructions for updating:\n",
      "Use standard file APIs to check for files with this prefix.\n",
      "INFO:tensorflow:Restoring parameters from Model/model\n",
      "[*] Model Restored.\n",
      "Epoch: 1 / 10\n",
      "Progress: 100.00 %\n",
      "Time: 43.58609986305237\n",
      "Training Accuracy: 99.79166686534882\n",
      "Testing Accuracy: 98.91999959945679 \n",
      "\n",
      "Epoch: 2 / 10\n",
      "Progress: 2.50 %\n",
      "[*] Model Saved.\n"
     ]
    }
   ],
   "source": [
    "with tf.Session() as sess:\n",
    "    sess.run(tf.global_variables_initializer())\n",
    "    try:\n",
    "        saver.restore(sess,\"Model/model\")\n",
    "        print(\"[*] Model Restored.\")\n",
    "    except:\n",
    "        print(\"[!] Probably encountered error in restoring.\")\n",
    "    totl = train_labels.shape[0]\n",
    "    try:\n",
    "        for epoch in range(num_epochs):\n",
    "            strt=time()\n",
    "            train_acc = 0\n",
    "            print(\"Epoch:\",(epoch+1),\"/\",num_epochs)\n",
    "            for batch in range(0,totl,batch_size):\n",
    "                print(\"\\rProgress: %.2f\" % (batch*100/totl),'%', end='')\n",
    "                x_batch, y_label_batch = batch_gen(train_data,train_labels,batch_size)\n",
    "                feed_dict = {x:x_batch, y_label: y_label_batch}\n",
    "                sess.run(optimizer, feed_dict=feed_dict)\n",
    "                train_acc += sess.run(accuracy, feed_dict=feed_dict)\n",
    "\n",
    "            print(\"\\rProgress: 100.00 %\")\n",
    "            train_acc /= int(len(train_labels)/batch_size)\n",
    "            print(\"Time:\",(time()-strt))\n",
    "            print(\"Training Accuracy:\",train_acc*100)\n",
    "            feed_dict = {x:test_data, y_label: test_labels}\n",
    "            test_acc = sess.run(accuracy, feed_dict=feed_dict)\n",
    "            print(\"Testing Accuracy:\",test_acc*100,'\\n')\n",
    "    except KeyboardInterrupt:\n",
    "        pass\n",
    "    saver.save(sess,\"Model/model\")\n",
    "    print(\"\\n[*] Model Saved.\")"
   ]
  },
  {
   "cell_type": "code",
   "execution_count": 35,
   "metadata": {},
   "outputs": [
    {
     "name": "stdout",
     "output_type": "stream",
     "text": [
      "INFO:tensorflow:Restoring parameters from Model/model\n"
     ]
    },
    {
     "data": {
      "image/png": "[encoded data removed]",
      "text/plain": [
       "<Figure size 1152x1152 with 16 Axes>"
      ]
     },
     "metadata": {},
     "output_type": "display_data"
    }
   ],
   "source": [
    "with tf.Session() as sess:\n",
    "    sess.run(tf.global_variables_initializer())\n",
    "    saver.restore(sess,\"Model/model\")\n",
    "    x_d, y_l = batch_gen(test_data, test_labels, 16)\n",
    "    feed_dict = {x:x_d, y_label: y_l}\n",
    "    vals = sess.run(y_pred, feed_dict=feed_dict)\n",
    "    fig, ax = plt.subplots(nrows=4,ncols=4,figsize=[16,16])\n",
    "    fig.patch.set_facecolor('white')\n",
    "    for i,axi in enumerate(ax.flat):\n",
    "        ans=np.argmax(vals[i])\n",
    "        axi.set_title('Prediction: {}'.format(ans))\n",
    "        axi.text(12, 1,'Confidence: {}'.format(str(round(vals[i][ans]*100,2))+\"%\"))\n",
    "        axi.imshow(x_d[i].reshape(28,28), cmap='Greys')"
   ]
  },
  {
   "cell_type": "code",
   "execution_count": null,
   "metadata": {},
   "outputs": [],
   "source": []
  }
 ],
 "metadata": {
  "kernelspec": {
   "display_name": "Python 3",
   "language": "python",
   "name": "python3"
  },
  "language_info": {
   "codemirror_mode": {
    "name": "ipython",
    "version": 3
   },
   "file_extension": ".py",
   "mimetype": "text/x-python",
   "name": "python",
   "nbconvert_exporter": "python",
   "pygments_lexer": "ipython3",
   "version": "3.7.3"
  }
 },
 "nbformat": 4,
 "nbformat_minor": 2
}
